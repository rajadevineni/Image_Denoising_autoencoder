{
  "nbformat": 4,
  "nbformat_minor": 0,
  "metadata": {
    "colab": {
      "name": "Untitled8.ipynb",
      "provenance": [],
      "toc_visible": true,
      "authorship_tag": "ABX9TyNqDw23eaHlNOCcKUi3oRzb",
      "include_colab_link": true
    },
    "kernelspec": {
      "name": "python3",
      "display_name": "Python 3"
    },
    "accelerator": "TPU"
  },
  "cells": [
    {
      "cell_type": "markdown",
      "metadata": {
        "id": "view-in-github",
        "colab_type": "text"
      },
      "source": [
        "<a href=\"https://colab.research.google.com/github/rajadevineni/Image_Denoising_autoencoder/blob/master/Convolutional_Autoencoder.ipynb\" target=\"_parent\"><img src=\"https://colab.research.google.com/assets/colab-badge.svg\" alt=\"Open In Colab\"/></a>"
      ]
    },
    {
      "cell_type": "markdown",
      "metadata": {
        "id": "4vTWafDcUxEg",
        "colab_type": "text"
      },
      "source": [
        "# ***Convolutional Autoencoder***"
      ]
    },
    {
      "cell_type": "markdown",
      "metadata": {
        "id": "5FcW5u69SK1j",
        "colab_type": "text"
      },
      "source": [
        "## ***Loading Libraries and Dataset***"
      ]
    },
    {
      "cell_type": "code",
      "metadata": {
        "id": "CaDk2qC2FKvt",
        "colab_type": "code",
        "colab": {
          "base_uri": "https://localhost:8080/",
          "height": 88
        },
        "outputId": "5c9a09f3-c29b-497a-dfcf-3b5e4a5da3bd"
      },
      "source": [
        "import tensorflow as tf\n",
        "import pandas as pd\n",
        "import numpy as np\n",
        "import matplotlib.pyplot as plt\n",
        "import seaborn as sns\n",
        "import random\n",
        "\n",
        "from keras.layers import Input, Dense, Conv2D, MaxPooling2D, UpSampling2D\n",
        "from keras.models import Model\n",
        "from keras import backend as K\n",
        "from keras.datasets import mnist"
      ],
      "execution_count": 1,
      "outputs": [
        {
          "output_type": "stream",
          "text": [
            "/usr/local/lib/python3.6/dist-packages/statsmodels/tools/_testing.py:19: FutureWarning: pandas.util.testing is deprecated. Use the functions in the public API at pandas.testing instead.\n",
            "  import pandas.util.testing as tm\n",
            "Using TensorFlow backend.\n"
          ],
          "name": "stderr"
        }
      ]
    },
    {
      "cell_type": "markdown",
      "metadata": {
        "id": "TN6EZwImUlkG",
        "colab_type": "text"
      },
      "source": [
        "## **Add noise into the dataset**\n",
        "\n",
        "\n",
        "\n",
        "> \n",
        "\n",
        "1.   We generate synthetic gausian noise through np.random.normal\n",
        "2.   After adding the noise the values in image matrix are no longer between 0 & 1. Hence, we clip the images between 0, 1\n",
        "\n",
        "\n",
        "\n",
        "\n"
      ]
    },
    {
      "cell_type": "code",
      "metadata": {
        "id": "aBgz8o4nFRnx",
        "colab_type": "code",
        "colab": {
          "base_uri": "https://localhost:8080/",
          "height": 51
        },
        "outputId": "550cfdbf-b713-437c-9600-dd1cdd7d9ece"
      },
      "source": [
        "(x_train, _), (x_test, _) = mnist.load_data()\n",
        "\n",
        "# Building for only single channel image data format\n",
        "x_train = x_train.astype('float32') / 255.\n",
        "x_test = x_test.astype('float32') / 255.\n",
        "x_train = np.reshape(x_train, (len(x_train), 28, 28, 1))  \n",
        "x_test = np.reshape(x_test, (len(x_test), 28, 28, 1))  \n",
        "\n",
        "# Adding noise to the original dataset\n",
        "noise_factor = 0.5\n",
        "x_train_noisy = x_train + noise_factor * np.random.normal(loc=0.0, scale=1.0, size=x_train.shape) \n",
        "x_test_noisy = x_test + noise_factor * np.random.normal(loc=0.0, scale=1.0, size=x_test.shape) \n",
        "\n",
        "x_train_noisy = np.clip(x_train_noisy, 0., 1.)\n",
        "x_test_noisy = np.clip(x_test_noisy, 0., 1.)"
      ],
      "execution_count": 2,
      "outputs": [
        {
          "output_type": "stream",
          "text": [
            "Downloading data from https://s3.amazonaws.com/img-datasets/mnist.npz\n",
            "11493376/11490434 [==============================] - 0s 0us/step\n"
          ],
          "name": "stdout"
        }
      ]
    },
    {
      "cell_type": "markdown",
      "metadata": {
        "id": "lkMjBSNoSr9G",
        "colab_type": "text"
      },
      "source": [
        "## **Visualize few samples**"
      ]
    },
    {
      "cell_type": "code",
      "metadata": {
        "id": "3DOc83bwFRxC",
        "colab_type": "code",
        "colab": {
          "base_uri": "https://localhost:8080/",
          "height": 129
        },
        "outputId": "9a4337e5-1b4d-4f23-ce0c-384d4eb2f8a5"
      },
      "source": [
        "n = 10\n",
        "plt.figure(figsize=(20, 2))\n",
        "for i in range(1,n+1):\n",
        "    ax = plt.subplot(1, n, i)\n",
        "    plt.imshow(x_test_noisy[i].reshape(28, 28))\n",
        "    plt.gray()\n",
        "    ax.get_xaxis().set_visible(False)\n",
        "    ax.get_yaxis().set_visible(False)\n",
        "plt.show()"
      ],
      "execution_count": 3,
      "outputs": [
        {
          "output_type": "display_data",
          "data": {
            "image/png": "[encoded data removed]",
            "text/plain": [
              "<Figure size 1440x144 with 10 Axes>"
            ]
          },
          "metadata": {
            "tags": [],
            "needs_background": "light"
          }
        }
      ]
    },
    {
      "cell_type": "markdown",
      "metadata": {
        "id": "dHeaGOL1SxS9",
        "colab_type": "text"
      },
      "source": [
        "# **Building Convolutional Autoencoder**\n",
        "\n",
        "\n",
        "\n",
        "*   **This encoder is made for MNIST dataset which has only grayscale images**\n",
        "*   **Configure this net to accomodate different dimensions of images**\n",
        "\n"
      ]
    },
    {
      "cell_type": "code",
      "metadata": {
        "id": "nxoQHJysFfg9",
        "colab_type": "code",
        "colab": {}
      },
      "source": [
        "input_img = Input(shape=(28, 28, 1))  # adapt this if using `channels_first` image data format\n",
        "\n",
        "x = Conv2D(32, (3, 3), activation='relu', padding='same')(input_img)\n",
        "x = MaxPooling2D((2, 2), padding='same')(x)\n",
        "x = Conv2D(32, (3, 3), activation='relu', padding='same')(x)\n",
        "encoded = MaxPooling2D((2, 2), padding='same')(x)\n",
        "\n",
        "# at this point the representation is (7, 7, 32)\n",
        "\n",
        "x = Conv2D(32, (3, 3), activation='relu', padding='same')(encoded)\n",
        "x = UpSampling2D((2, 2))(x)\n",
        "x = Conv2D(32, (3, 3), activation='relu', padding='same')(x)\n",
        "x = UpSampling2D((2, 2))(x)\n",
        "decoded = Conv2D(1, (3, 3), activation='sigmoid', padding='same')(x)\n",
        "\n",
        "autoencoder = Model(input_img, decoded)\n",
        "autoencoder.compile(optimizer='adadelta', loss='binary_crossentropy')"
      ],
      "execution_count": 4,
      "outputs": []
    },
    {
      "cell_type": "markdown",
      "metadata": {
        "id": "kNIyT2KlWhpA",
        "colab_type": "text"
      },
      "source": [
        "# **Training the model**\n"
      ]
    },
    {
      "cell_type": "markdown",
      "metadata": {
        "id": "bk1epoITY6aV",
        "colab_type": "text"
      },
      "source": [
        "\n",
        "*   **While fitting the model I've set \"*shuffle = True*\", this many result in longer \n",
        "time for the model to train**\n",
        "\n",
        "> shuffle: Logical (whether to shuffle the training data before each epoch) or string (for \"batch\"). \"batch\" is a special option for dealing with the limitations of HDF5 data; it shuffles in batch-sized chunks. Has no effect when steps_per_epoch is not NULL.\n"
      ]
    },
    {
      "cell_type": "code",
      "metadata": {
        "id": "VSJEPzIEF0b0",
        "colab_type": "code",
        "colab": {
          "base_uri": "https://localhost:8080/",
          "height": 663
        },
        "outputId": "1aa8bd32-2a14-4c5c-df77-21b834947b39"
      },
      "source": [
        "es = tf.keras.callbacks.EarlyStopping(monitor='val_loss', patience=3, mode='min')\n",
        "autoencoder.fit(x_train_noisy, x_train,\n",
        "                epochs=100,\n",
        "                batch_size=128,\n",
        "                shuffle=True,\n",
        "                validation_data=(x_test_noisy, x_test),\n",
        "                callbacks = [es])"
      ],
      "execution_count": 5,
      "outputs": [
        {
          "output_type": "stream",
          "text": [
            "Train on 60000 samples, validate on 10000 samples\n",
            "Epoch 1/100\n",
            "60000/60000 [==============================] - 130s 2ms/step - loss: 0.1764 - val_loss: 0.1318\n",
            "Epoch 2/100\n",
            "60000/60000 [==============================] - 129s 2ms/step - loss: 0.1194 - val_loss: 0.1198\n",
            "Epoch 3/100\n",
            "60000/60000 [==============================] - 129s 2ms/step - loss: 0.1123 - val_loss: 0.1090\n",
            "Epoch 4/100\n",
            "60000/60000 [==============================] - 130s 2ms/step - loss: 0.1083 - val_loss: 0.1067\n",
            "Epoch 5/100\n",
            "60000/60000 [==============================] - 130s 2ms/step - loss: 0.1058 - val_loss: 0.1032\n",
            "Epoch 6/100\n",
            "60000/60000 [==============================] - 130s 2ms/step - loss: 0.1041 - val_loss: 0.1029\n",
            "Epoch 7/100\n",
            "60000/60000 [==============================] - 131s 2ms/step - loss: 0.1028 - val_loss: 0.1010\n",
            "Epoch 8/100\n",
            "60000/60000 [==============================] - 130s 2ms/step - loss: 0.1019 - val_loss: 0.0997\n",
            "Epoch 9/100\n",
            "60000/60000 [==============================] - 130s 2ms/step - loss: 0.1011 - val_loss: 0.0994\n",
            "Epoch 10/100\n",
            "60000/60000 [==============================] - 130s 2ms/step - loss: 0.1007 - val_loss: 0.0993\n",
            "Epoch 11/100\n",
            "60000/60000 [==============================] - 130s 2ms/step - loss: 0.1005 - val_loss: 0.0985\n",
            "Epoch 12/100\n",
            "60000/60000 [==============================] - 130s 2ms/step - loss: 0.0999 - val_loss: 0.0987\n",
            "Epoch 13/100\n",
            "60000/60000 [==============================] - 130s 2ms/step - loss: 0.0995 - val_loss: 0.0979\n",
            "Epoch 14/100\n",
            "60000/60000 [==============================] - 129s 2ms/step - loss: 0.0990 - val_loss: 0.0980\n",
            "Epoch 15/100\n",
            "60000/60000 [==============================] - 129s 2ms/step - loss: 0.0989 - val_loss: 0.0978\n",
            "Epoch 16/100\n",
            "60000/60000 [==============================] - 130s 2ms/step - loss: 0.0987 - val_loss: 0.0981\n",
            "Epoch 17/100\n",
            "60000/60000 [==============================] - 129s 2ms/step - loss: 0.0985 - val_loss: 0.0986\n",
            "Epoch 18/100\n",
            "60000/60000 [==============================] - 129s 2ms/step - loss: 0.0983 - val_loss: 0.0993\n"
          ],
          "name": "stdout"
        },
        {
          "output_type": "execute_result",
          "data": {
            "text/plain": [
              "<keras.callbacks.callbacks.History at 0x7f45157d5d30>"
            ]
          },
          "metadata": {
            "tags": []
          },
          "execution_count": 5
        }
      ]
    },
    {
      "cell_type": "markdown",
      "metadata": {
        "id": "6TCN4EaeTKPQ",
        "colab_type": "text"
      },
      "source": [
        "## Model Summary \n",
        "\n",
        "\n"
      ]
    },
    {
      "cell_type": "code",
      "metadata": {
        "id": "PhlYK-FtEYxM",
        "colab_type": "code",
        "colab": {
          "base_uri": "https://localhost:8080/",
          "height": 493
        },
        "outputId": "6fe58f0c-3fc2-456e-9bfa-a99e998b6a6e"
      },
      "source": [
        "autoencoder.summary()"
      ],
      "execution_count": 6,
      "outputs": [
        {
          "output_type": "stream",
          "text": [
            "Model: \"model_1\"\n",
            "_________________________________________________________________\n",
            "Layer (type)                 Output Shape              Param #   \n",
            "=================================================================\n",
            "input_1 (InputLayer)         (None, 28, 28, 1)         0         \n",
            "_________________________________________________________________\n",
            "conv2d_1 (Conv2D)            (None, 28, 28, 32)        320       \n",
            "_________________________________________________________________\n",
            "max_pooling2d_1 (MaxPooling2 (None, 14, 14, 32)        0         \n",
            "_________________________________________________________________\n",
            "conv2d_2 (Conv2D)            (None, 14, 14, 32)        9248      \n",
            "_________________________________________________________________\n",
            "max_pooling2d_2 (MaxPooling2 (None, 7, 7, 32)          0         \n",
            "_________________________________________________________________\n",
            "conv2d_3 (Conv2D)            (None, 7, 7, 32)          9248      \n",
            "_________________________________________________________________\n",
            "up_sampling2d_1 (UpSampling2 (None, 14, 14, 32)        0         \n",
            "_________________________________________________________________\n",
            "conv2d_4 (Conv2D)            (None, 14, 14, 32)        9248      \n",
            "_________________________________________________________________\n",
            "up_sampling2d_2 (UpSampling2 (None, 28, 28, 32)        0         \n",
            "_________________________________________________________________\n",
            "conv2d_5 (Conv2D)            (None, 28, 28, 1)         289       \n",
            "=================================================================\n",
            "Total params: 28,353\n",
            "Trainable params: 28,353\n",
            "Non-trainable params: 0\n",
            "_________________________________________________________________\n"
          ],
          "name": "stdout"
        }
      ]
    },
    {
      "cell_type": "markdown",
      "metadata": {
        "id": "7Qw-zgHXTkR6",
        "colab_type": "text"
      },
      "source": [
        "# **Evaluating the model**"
      ]
    },
    {
      "cell_type": "code",
      "metadata": {
        "id": "0Jcwj2vnDxBC",
        "colab_type": "code",
        "colab": {
          "base_uri": "https://localhost:8080/",
          "height": 34
        },
        "outputId": "44c38f9a-731d-485e-9173-37c4af5eefb3"
      },
      "source": [
        "evaluation = autoencoder.evaluate(x_test_noisy.reshape(-1,28,28,1), x_test.reshape(-1,28,28,1))"
      ],
      "execution_count": 7,
      "outputs": [
        {
          "output_type": "stream",
          "text": [
            "10000/10000 [==============================] - 6s 594us/step\n"
          ],
          "name": "stdout"
        }
      ]
    },
    {
      "cell_type": "code",
      "metadata": {
        "id": "B2FN8NMeGhXj",
        "colab_type": "code",
        "colab": {
          "base_uri": "https://localhost:8080/",
          "height": 51
        },
        "outputId": "17046792-e9ca-45c6-b22c-b4a1498c7c02"
      },
      "source": [
        "#autoencoder.evaluate(x_test_noisy.reshape(-1,28,28,1), x_test.reshape(-1,28,28,1))\n",
        "print(autoencoder.evaluate(x_test_noisy,x_test))"
      ],
      "execution_count": 8,
      "outputs": [
        {
          "output_type": "stream",
          "text": [
            "10000/10000 [==============================] - 6s 593us/step\n",
            "0.09926765601634979\n"
          ],
          "name": "stdout"
        }
      ]
    },
    {
      "cell_type": "markdown",
      "metadata": {
        "id": "lL1hSW5UZlzq",
        "colab_type": "text"
      },
      "source": [
        "## **Predict 10 images**"
      ]
    },
    {
      "cell_type": "code",
      "metadata": {
        "id": "mZZYJaxwEy15",
        "colab_type": "code",
        "colab": {}
      },
      "source": [
        "#predicted = autoencoder.predict(x_test_noisy[:10].reshape(-1,28,28,1))\n",
        "predicted = autoencoder.predict(x_test_noisy[:10])"
      ],
      "execution_count": 9,
      "outputs": []
    },
    {
      "cell_type": "code",
      "metadata": {
        "id": "yCI6BB2jFPE4",
        "colab_type": "code",
        "colab": {
          "base_uri": "https://localhost:8080/",
          "height": 248
        },
        "outputId": "bc46f587-e54a-4ce9-9bfc-fa0df4ec7df2"
      },
      "source": [
        "fig, axes = plt.subplots(nrows=2, ncols=10, sharex=True, sharey= True, figsize = (20,4))\n",
        "\n",
        "for images, row in zip([x_test_noisy[:10], predicted], axes):\n",
        "  for img, ax in zip(images,row):\n",
        "    ax.imshow(img.reshape(28,28), cmap ='Greys_r')\n",
        "    ax.get_xaxis().set_visible(False)\n",
        "    ax.get_yaxis().set_visible(False)"
      ],
      "execution_count": 10,
      "outputs": [
        {
          "output_type": "display_data",
          "data": {
            "image/png": "[encoded data removed]",
            "text/plain": [
              "<Figure size 1440x288 with 20 Axes>"
            ]
          },
          "metadata": {
            "tags": [],
            "needs_background": "light"
          }
        }
      ]
    },
    {
      "cell_type": "markdown",
      "metadata": {
        "id": "RmamVoc0ZtZ5",
        "colab_type": "text"
      },
      "source": [
        "# Save the model"
      ]
    },
    {
      "cell_type": "code",
      "metadata": {
        "id": "CblAqg6yFSk1",
        "colab_type": "code",
        "colab": {}
      },
      "source": [
        "autoencoder.save(\"auto_encoder\")"
      ],
      "execution_count": null,
      "outputs": []
    }
  ]
}