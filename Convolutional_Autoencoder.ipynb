{
  "nbformat": 4,
  "nbformat_minor": 0,
  "metadata": {
    "colab": {
      "name": "Untitled8.ipynb",
      "provenance": [],
      "authorship_tag": "ABX9TyO7W1HUIXCr8ZONev3WbjxS",
      "include_colab_link": true
    },
    "kernelspec": {
      "name": "python3",
      "display_name": "Python 3"
    },
    "accelerator": "TPU"
  },
  "cells": [
    {
      "cell_type": "markdown",
      "metadata": {
        "id": "view-in-github",
        "colab_type": "text"
      },
      "source": [
        "<a href=\"https://colab.research.google.com/github/rajadevineni/Image_Denoising_autoencoder/blob/master/Convolutional_Autoencoder.ipynb\" target=\"_parent\"><img src=\"https://colab.research.google.com/assets/colab-badge.svg\" alt=\"Open In Colab\"/></a>"
      ]
    },
    {
      "cell_type": "code",
      "metadata": {
        "id": "CaDk2qC2FKvt",
        "colab_type": "code",
        "colab": {
          "base_uri": "https://localhost:8080/",
          "height": 68
        },
        "outputId": "d94f66b4-6a55-4feb-dd77-40834462da6b"
      },
      "source": [
        "import tensorflow as tf\n",
        "import pandas as pd\n",
        "import numpy as np\n",
        "import matplotlib.pyplot as plt\n",
        "import seaborn as sns\n",
        "import random\n",
        "\n",
        "from keras.layers import Input, Dense, Conv2D, MaxPooling2D, UpSampling2D\n",
        "from keras.models import Model\n",
        "from keras import backend as K\n",
        "from keras.datasets import mnist"
      ],
      "execution_count": 1,
      "outputs": [
        {
          "output_type": "stream",
          "text": [
            "/usr/local/lib/python3.6/dist-packages/statsmodels/tools/_testing.py:19: FutureWarning: pandas.util.testing is deprecated. Use the functions in the public API at pandas.testing instead.\n",
            "  import pandas.util.testing as tm\n",
            "Using TensorFlow backend.\n"
          ],
          "name": "stderr"
        }
      ]
    },
    {
      "cell_type": "code",
      "metadata": {
        "id": "aBgz8o4nFRnx",
        "colab_type": "code",
        "colab": {
          "base_uri": "https://localhost:8080/",
          "height": 51
        },
        "outputId": "a30ca3ce-64a9-4047-8219-2f201baafe2c"
      },
      "source": [
        "(x_train, _), (x_test, _) = mnist.load_data()\n",
        "\n",
        "x_train = x_train.astype('float32') / 255.\n",
        "x_test = x_test.astype('float32') / 255.\n",
        "x_train = np.reshape(x_train, (len(x_train), 28, 28, 1))  # adapt this if using `channels_first` image data format\n",
        "x_test = np.reshape(x_test, (len(x_test), 28, 28, 1))  # adapt this if using `channels_first` image data format\n",
        "\n",
        "noise_factor = 0.5\n",
        "x_train_noisy = x_train + noise_factor * np.random.normal(loc=0.0, scale=1.0, size=x_train.shape) \n",
        "x_test_noisy = x_test + noise_factor * np.random.normal(loc=0.0, scale=1.0, size=x_test.shape) \n",
        "\n",
        "x_train_noisy = np.clip(x_train_noisy, 0., 1.)\n",
        "x_test_noisy = np.clip(x_test_noisy, 0., 1.)"
      ],
      "execution_count": 2,
      "outputs": [
        {
          "output_type": "stream",
          "text": [
            "Downloading data from https://s3.amazonaws.com/img-datasets/mnist.npz\n",
            "11493376/11490434 [==============================] - 0s 0us/step\n"
          ],
          "name": "stdout"
        }
      ]
    },
    {
      "cell_type": "code",
      "metadata": {
        "id": "3DOc83bwFRxC",
        "colab_type": "code",
        "colab": {
          "base_uri": "https://localhost:8080/",
          "height": 129
        },
        "outputId": "cb143fbf-64c4-481a-c268-c16516264de0"
      },
      "source": [
        "n = 10\n",
        "plt.figure(figsize=(20, 2))\n",
        "for i in range(1,n+1):\n",
        "    ax = plt.subplot(1, n, i)\n",
        "    plt.imshow(x_test_noisy[i].reshape(28, 28))\n",
        "    plt.gray()\n",
        "    ax.get_xaxis().set_visible(False)\n",
        "    ax.get_yaxis().set_visible(False)\n",
        "plt.show()"
      ],
      "execution_count": 3,
      "outputs": [
        {
          "output_type": "display_data",
          "data": {
            "image/png": "[encoded data removed]",
            "text/plain": [
              "<Figure size 1440x144 with 10 Axes>"
            ]
          },
          "metadata": {
            "tags": [],
            "needs_background": "light"
          }
        }
      ]
    },
    {
      "cell_type": "code",
      "metadata": {
        "id": "nxoQHJysFfg9",
        "colab_type": "code",
        "colab": {}
      },
      "source": [
        "input_img = Input(shape=(28, 28, 1))  # adapt this if using `channels_first` image data format\n",
        "\n",
        "x = Conv2D(32, (3, 3), activation='relu', padding='same')(input_img)\n",
        "x = MaxPooling2D((2, 2), padding='same')(x)\n",
        "x = Conv2D(32, (3, 3), activation='relu', padding='same')(x)\n",
        "encoded = MaxPooling2D((2, 2), padding='same')(x)\n",
        "\n",
        "# at this point the representation is (7, 7, 32)\n",
        "\n",
        "x = Conv2D(32, (3, 3), activation='relu', padding='same')(encoded)\n",
        "x = UpSampling2D((2, 2))(x)\n",
        "x = Conv2D(32, (3, 3), activation='relu', padding='same')(x)\n",
        "x = UpSampling2D((2, 2))(x)\n",
        "decoded = Conv2D(1, (3, 3), activation='sigmoid', padding='same')(x)\n",
        "\n",
        "autoencoder = Model(input_img, decoded)\n",
        "autoencoder.compile(optimizer='adadelta', loss='binary_crossentropy')"
      ],
      "execution_count": 4,
      "outputs": []
    },
    {
      "cell_type": "code",
      "metadata": {
        "id": "VSJEPzIEF0b0",
        "colab_type": "code",
        "colab": {
          "base_uri": "https://localhost:8080/",
          "height": 1000
        },
        "outputId": "742e8196-8238-4981-b20b-0a8f11c52028"
      },
      "source": [
        "autoencoder.fit(x_train_noisy, x_train,\n",
        "                epochs=100,\n",
        "                batch_size=128,\n",
        "                shuffle=True,\n",
        "                validation_data=(x_test_noisy, x_test))"
      ],
      "execution_count": 7,
      "outputs": [
        {
          "output_type": "stream",
          "text": [
            "60000/60000 [==============================] - 152s 3ms/step - loss: 0.0948 - val_loss: 0.0944\n",
            "Epoch 72/100\n",
            "60000/60000 [==============================] - 150s 2ms/step - loss: 0.0947 - val_loss: 0.0941\n",
            "Epoch 73/100\n",
            "60000/60000 [==============================] - 150s 2ms/step - loss: 0.0947 - val_loss: 0.0950\n",
            "Epoch 74/100\n",
            "60000/60000 [==============================] - 149s 2ms/step - loss: 0.0947 - val_loss: 0.0943\n",
            "Epoch 75/100\n",
            "60000/60000 [==============================] - 148s 2ms/step - loss: 0.0946 - val_loss: 0.0942\n",
            "Epoch 76/100\n",
            "60000/60000 [==============================] - 152s 3ms/step - loss: 0.0946 - val_loss: 0.0945\n",
            "Epoch 77/100\n",
            "60000/60000 [==============================] - 148s 2ms/step - loss: 0.0946 - val_loss: 0.0940\n",
            "Epoch 78/100\n",
            "60000/60000 [==============================] - 149s 2ms/step - loss: 0.0945 - val_loss: 0.0945\n",
            "Epoch 79/100\n",
            "60000/60000 [==============================] - 149s 2ms/step - loss: 0.0945 - val_loss: 0.0941\n",
            "Epoch 80/100\n",
            "60000/60000 [==============================] - 154s 3ms/step - loss: 0.0945 - val_loss: 0.0942\n",
            "Epoch 81/100\n",
            "60000/60000 [==============================] - 149s 2ms/step - loss: 0.0945 - val_loss: 0.0946\n",
            "Epoch 82/100\n",
            "60000/60000 [==============================] - 149s 2ms/step - loss: 0.0945 - val_loss: 0.0943\n",
            "Epoch 83/100\n",
            "60000/60000 [==============================] - 148s 2ms/step - loss: 0.0945 - val_loss: 0.0943\n",
            "Epoch 84/100\n",
            "60000/60000 [==============================] - 150s 2ms/step - loss: 0.0944 - val_loss: 0.0939\n",
            "Epoch 85/100\n",
            "60000/60000 [==============================] - 150s 3ms/step - loss: 0.0944 - val_loss: 0.0941\n",
            "Epoch 86/100\n",
            "60000/60000 [==============================] - 151s 3ms/step - loss: 0.0944 - val_loss: 0.0953\n",
            "Epoch 87/100\n",
            "60000/60000 [==============================] - 151s 3ms/step - loss: 0.0944 - val_loss: 0.0944\n",
            "Epoch 88/100\n",
            "60000/60000 [==============================] - 151s 3ms/step - loss: 0.0943 - val_loss: 0.0940\n",
            "Epoch 89/100\n",
            "60000/60000 [==============================] - 151s 3ms/step - loss: 0.0944 - val_loss: 0.0938\n",
            "Epoch 90/100\n",
            "60000/60000 [==============================] - 151s 3ms/step - loss: 0.0943 - val_loss: 0.0940\n",
            "Epoch 91/100\n",
            "60000/60000 [==============================] - 150s 3ms/step - loss: 0.0943 - val_loss: 0.0939\n",
            "Epoch 92/100\n",
            "60000/60000 [==============================] - 150s 2ms/step - loss: 0.0943 - val_loss: 0.0947\n",
            "Epoch 93/100\n",
            "60000/60000 [==============================] - 150s 3ms/step - loss: 0.0942 - val_loss: 0.0949\n",
            "Epoch 94/100\n",
            "60000/60000 [==============================] - 150s 3ms/step - loss: 0.0943 - val_loss: 0.0945\n",
            "Epoch 95/100\n",
            "60000/60000 [==============================] - 150s 3ms/step - loss: 0.0942 - val_loss: 0.0942\n",
            "Epoch 96/100\n",
            "60000/60000 [==============================] - 150s 3ms/step - loss: 0.0942 - val_loss: 0.0937\n",
            "Epoch 97/100\n",
            "60000/60000 [==============================] - 151s 3ms/step - loss: 0.0942 - val_loss: 0.0939\n",
            "Epoch 98/100\n",
            "60000/60000 [==============================] - 150s 3ms/step - loss: 0.0942 - val_loss: 0.0942\n",
            "Epoch 99/100\n",
            "60000/60000 [==============================] - 150s 3ms/step - loss: 0.0941 - val_loss: 0.0948\n",
            "Epoch 100/100\n",
            "60000/60000 [==============================] - 154s 3ms/step - loss: 0.0942 - val_loss: 0.0937\n"
          ],
          "name": "stdout"
        },
        {
          "output_type": "execute_result",
          "data": {
            "text/plain": [
              "<keras.callbacks.callbacks.History at 0x7f8101c42a90>"
            ]
          },
          "metadata": {
            "tags": []
          },
          "execution_count": 7
        }
      ]
    },
    {
      "cell_type": "code",
      "metadata": {
        "id": "PhlYK-FtEYxM",
        "colab_type": "code",
        "colab": {
          "base_uri": "https://localhost:8080/",
          "height": 493
        },
        "outputId": "36f22f55-73b3-4ff0-ecaa-bda681a00a38"
      },
      "source": [
        "autoencoder.summary()"
      ],
      "execution_count": 12,
      "outputs": [
        {
          "output_type": "stream",
          "text": [
            "Model: \"model_1\"\n",
            "_________________________________________________________________\n",
            "Layer (type)                 Output Shape              Param #   \n",
            "=================================================================\n",
            "input_1 (InputLayer)         (None, 28, 28, 1)         0         \n",
            "_________________________________________________________________\n",
            "conv2d_1 (Conv2D)            (None, 28, 28, 32)        320       \n",
            "_________________________________________________________________\n",
            "max_pooling2d_1 (MaxPooling2 (None, 14, 14, 32)        0         \n",
            "_________________________________________________________________\n",
            "conv2d_2 (Conv2D)            (None, 14, 14, 32)        9248      \n",
            "_________________________________________________________________\n",
            "max_pooling2d_2 (MaxPooling2 (None, 7, 7, 32)          0         \n",
            "_________________________________________________________________\n",
            "conv2d_3 (Conv2D)            (None, 7, 7, 32)          9248      \n",
            "_________________________________________________________________\n",
            "up_sampling2d_1 (UpSampling2 (None, 14, 14, 32)        0         \n",
            "_________________________________________________________________\n",
            "conv2d_4 (Conv2D)            (None, 14, 14, 32)        9248      \n",
            "_________________________________________________________________\n",
            "up_sampling2d_2 (UpSampling2 (None, 28, 28, 32)        0         \n",
            "_________________________________________________________________\n",
            "conv2d_5 (Conv2D)            (None, 28, 28, 1)         289       \n",
            "=================================================================\n",
            "Total params: 28,353\n",
            "Trainable params: 28,353\n",
            "Non-trainable params: 0\n",
            "_________________________________________________________________\n"
          ],
          "name": "stdout"
        }
      ]
    },
    {
      "cell_type": "code",
      "metadata": {
        "id": "0Jcwj2vnDxBC",
        "colab_type": "code",
        "colab": {
          "base_uri": "https://localhost:8080/",
          "height": 34
        },
        "outputId": "d1589577-6292-4638-a219-865bde16cf21"
      },
      "source": [
        "evaluation = autoencoder.evaluate(x_test_noisy.reshape(-1,28,28,1), x_test.reshape(-1,28,28,1))"
      ],
      "execution_count": 20,
      "outputs": [
        {
          "output_type": "stream",
          "text": [
            "10000/10000 [==============================] - 7s 698us/step\n"
          ],
          "name": "stdout"
        }
      ]
    },
    {
      "cell_type": "code",
      "metadata": {
        "id": "B2FN8NMeGhXj",
        "colab_type": "code",
        "colab": {
          "base_uri": "https://localhost:8080/",
          "height": 51
        },
        "outputId": "663cbe4e-1209-4d09-aa52-a0b165310de6"
      },
      "source": [
        "#autoencoder.evaluate(x_test_noisy.reshape(-1,28,28,1), x_test.reshape(-1,28,28,1))\n",
        "autoencoder.evaluate(x_test_noisy,x_test)"
      ],
      "execution_count": 24,
      "outputs": [
        {
          "output_type": "stream",
          "text": [
            "10000/10000 [==============================] - 7s 696us/step\n"
          ],
          "name": "stdout"
        },
        {
          "output_type": "execute_result",
          "data": {
            "text/plain": [
              "0.09369765325784683"
            ]
          },
          "metadata": {
            "tags": []
          },
          "execution_count": 24
        }
      ]
    },
    {
      "cell_type": "code",
      "metadata": {
        "id": "mZZYJaxwEy15",
        "colab_type": "code",
        "colab": {}
      },
      "source": [
        "#predicted = autoencoder.predict(x_test_noisy[:10].reshape(-1,28,28,1))\n",
        "predicted = autoencoder.predict(x_test_noisy[:10])"
      ],
      "execution_count": 25,
      "outputs": []
    },
    {
      "cell_type": "code",
      "metadata": {
        "id": "yCI6BB2jFPE4",
        "colab_type": "code",
        "colab": {
          "base_uri": "https://localhost:8080/",
          "height": 248
        },
        "outputId": "bfcca8ba-4322-4285-9b84-a5aa7110ea3d"
      },
      "source": [
        "fig, axes = plt.subplots(nrows=2, ncols=10, sharex=True, sharey= True, figsize = (20,4))\n",
        "\n",
        "for images, row in zip([x_test_noisy[:10], predicted], axes):\n",
        "  for img, ax in zip(images,row):\n",
        "    ax.imshow(img.reshape(28,28), cmap ='Greys_r')\n",
        "    ax.get_xaxis().set_visible(False)\n",
        "    ax.get_yaxis().set_visible(False)"
      ],
      "execution_count": 26,
      "outputs": [
        {
          "output_type": "display_data",
          "data": {
            "image/png": "[encoded data removed]",
            "text/plain": [
              "<Figure size 1440x288 with 20 Axes>"
            ]
          },
          "metadata": {
            "tags": [],
            "needs_background": "light"
          }
        }
      ]
    },
    {
      "cell_type": "code",
      "metadata": {
        "id": "CblAqg6yFSk1",
        "colab_type": "code",
        "colab": {}
      },
      "source": [
        "autoencoder.save(\"auto_encoder\")"
      ],
      "execution_count": 18,
      "outputs": []
    },
    {
      "cell_type": "code",
      "metadata": {
        "id": "prPisi09Fvnv",
        "colab_type": "code",
        "colab": {}
      },
      "source": [
        ""
      ],
      "execution_count": null,
      "outputs": []
    }
  ]
}